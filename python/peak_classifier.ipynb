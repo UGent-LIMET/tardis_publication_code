{
 "cells": [
  {
   "cell_type": "markdown",
   "id": "9b71eabc-cda9-4051-8b79-b868da54fd2d",
   "metadata": {},
   "source": [
    "# Peak quality classification\n",
    "In this document, a peak classifier is trained based on data from the FAME saliva analysis.\n",
    "The model is evaluated on a test set of the FAME saliva data and on an external set coming from the FGFP fecal metabolomics.\n",
    "\n",
    "## Data loading\n",
    "Data is loaded and inspected."
   ]
  },
  {
   "cell_type": "code",
   "execution_count": 177,
   "id": "52a01dcf-b31c-4bad-bc68-ed4624afef20",
   "metadata": {},
   "outputs": [
    {
     "data": {
      "text/plain": [
       "sys.version_info(major=3, minor=11, micro=5, releaselevel='final', serial=0)"
      ]
     },
     "execution_count": 177,
     "metadata": {},
     "output_type": "execute_result"
    }
   ],
   "source": [
    "import sys\n",
    "sys.version_info\n"
   ]
  },
  {
   "cell_type": "code",
   "execution_count": 1,
   "id": "a2449a34-c1cc-469c-8ec5-51b23b20c18e",
   "metadata": {},
   "outputs": [],
   "source": [
    "import pandas as pd"
   ]
  },
  {
   "cell_type": "code",
   "execution_count": 2,
   "id": "506f2e7b-e7c9-4d85-ac5c-24796930e809",
   "metadata": {},
   "outputs": [],
   "source": [
    "data = pd.read_csv(\"C:/Users/pvgeende/OneDrive - UGent/Documents/publications/tardis_paper/data/quality_analysis/fame_feat_labeled.csv\")"
   ]
  },
  {
   "cell_type": "code",
   "execution_count": 3,
   "id": "516bb7bb-07ed-4c6d-be8d-027fc8c243ad",
   "metadata": {},
   "outputs": [],
   "source": [
    "data = data[[\"AUC\",\"SNR\",\"peak_cor\",\"pop\",\"Rating\"]]"
   ]
  },
  {
   "cell_type": "code",
   "execution_count": 4,
   "id": "018e2853-1a01-45b3-a75c-b65eaa8056ec",
   "metadata": {},
   "outputs": [
    {
     "data": {
      "text/html": [
       "<div>\n",
       "<style scoped>\n",
       "    .dataframe tbody tr th:only-of-type {\n",
       "        vertical-align: middle;\n",
       "    }\n",
       "\n",
       "    .dataframe tbody tr th {\n",
       "        vertical-align: top;\n",
       "    }\n",
       "\n",
       "    .dataframe thead th {\n",
       "        text-align: right;\n",
       "    }\n",
       "</style>\n",
       "<table border=\"1\" class=\"dataframe\">\n",
       "  <thead>\n",
       "    <tr style=\"text-align: right;\">\n",
       "      <th></th>\n",
       "      <th>AUC</th>\n",
       "      <th>SNR</th>\n",
       "      <th>peak_cor</th>\n",
       "      <th>pop</th>\n",
       "      <th>Rating</th>\n",
       "    </tr>\n",
       "  </thead>\n",
       "  <tbody>\n",
       "    <tr>\n",
       "      <th>0</th>\n",
       "      <td>5.268505e+05</td>\n",
       "      <td>5.724095</td>\n",
       "      <td>0.930479</td>\n",
       "      <td>8.194030</td>\n",
       "      <td>Good</td>\n",
       "    </tr>\n",
       "    <tr>\n",
       "      <th>1</th>\n",
       "      <td>1.089761e+06</td>\n",
       "      <td>8.306172</td>\n",
       "      <td>0.710482</td>\n",
       "      <td>14.410448</td>\n",
       "      <td>Ambiguous</td>\n",
       "    </tr>\n",
       "    <tr>\n",
       "      <th>2</th>\n",
       "      <td>9.598806e+05</td>\n",
       "      <td>12.654109</td>\n",
       "      <td>0.945706</td>\n",
       "      <td>14.014925</td>\n",
       "      <td>Ambiguous</td>\n",
       "    </tr>\n",
       "    <tr>\n",
       "      <th>3</th>\n",
       "      <td>1.491169e+06</td>\n",
       "      <td>3.115002</td>\n",
       "      <td>0.128676</td>\n",
       "      <td>12.738806</td>\n",
       "      <td>Bad</td>\n",
       "    </tr>\n",
       "    <tr>\n",
       "      <th>4</th>\n",
       "      <td>1.600062e+04</td>\n",
       "      <td>3.150384</td>\n",
       "      <td>0.512800</td>\n",
       "      <td>8.649254</td>\n",
       "      <td>Bad</td>\n",
       "    </tr>\n",
       "    <tr>\n",
       "      <th>...</th>\n",
       "      <td>...</td>\n",
       "      <td>...</td>\n",
       "      <td>...</td>\n",
       "      <td>...</td>\n",
       "      <td>...</td>\n",
       "    </tr>\n",
       "    <tr>\n",
       "      <th>314</th>\n",
       "      <td>1.678497e+04</td>\n",
       "      <td>4.062024</td>\n",
       "      <td>0.899512</td>\n",
       "      <td>6.967742</td>\n",
       "      <td>Bad</td>\n",
       "    </tr>\n",
       "    <tr>\n",
       "      <th>315</th>\n",
       "      <td>9.813691e+05</td>\n",
       "      <td>8.236773</td>\n",
       "      <td>0.946165</td>\n",
       "      <td>10.458647</td>\n",
       "      <td>Good</td>\n",
       "    </tr>\n",
       "    <tr>\n",
       "      <th>316</th>\n",
       "      <td>4.609921e+04</td>\n",
       "      <td>3.627268</td>\n",
       "      <td>0.673865</td>\n",
       "      <td>7.953125</td>\n",
       "      <td>Bad</td>\n",
       "    </tr>\n",
       "    <tr>\n",
       "      <th>317</th>\n",
       "      <td>6.160932e+05</td>\n",
       "      <td>11.594717</td>\n",
       "      <td>0.982747</td>\n",
       "      <td>9.470149</td>\n",
       "      <td>Good</td>\n",
       "    </tr>\n",
       "    <tr>\n",
       "      <th>318</th>\n",
       "      <td>6.392414e+04</td>\n",
       "      <td>4.014604</td>\n",
       "      <td>0.925538</td>\n",
       "      <td>7.187500</td>\n",
       "      <td>Ambiguous</td>\n",
       "    </tr>\n",
       "  </tbody>\n",
       "</table>\n",
       "<p>319 rows × 5 columns</p>\n",
       "</div>"
      ],
      "text/plain": [
       "              AUC        SNR  peak_cor        pop     Rating\n",
       "0    5.268505e+05   5.724095  0.930479   8.194030       Good\n",
       "1    1.089761e+06   8.306172  0.710482  14.410448  Ambiguous\n",
       "2    9.598806e+05  12.654109  0.945706  14.014925  Ambiguous\n",
       "3    1.491169e+06   3.115002  0.128676  12.738806        Bad\n",
       "4    1.600062e+04   3.150384  0.512800   8.649254        Bad\n",
       "..            ...        ...       ...        ...        ...\n",
       "314  1.678497e+04   4.062024  0.899512   6.967742        Bad\n",
       "315  9.813691e+05   8.236773  0.946165  10.458647       Good\n",
       "316  4.609921e+04   3.627268  0.673865   7.953125        Bad\n",
       "317  6.160932e+05  11.594717  0.982747   9.470149       Good\n",
       "318  6.392414e+04   4.014604  0.925538   7.187500  Ambiguous\n",
       "\n",
       "[319 rows x 5 columns]"
      ]
     },
     "execution_count": 4,
     "metadata": {},
     "output_type": "execute_result"
    }
   ],
   "source": [
    "data"
   ]
  },
  {
   "cell_type": "code",
   "execution_count": 5,
   "id": "b7dbac5b-0d97-42c0-b995-6f47382ea3a8",
   "metadata": {},
   "outputs": [
    {
     "data": {
      "text/plain": [
       "Good         163\n",
       "Bad          110\n",
       "Ambiguous     46\n",
       "Name: Rating, dtype: int64"
      ]
     },
     "execution_count": 5,
     "metadata": {},
     "output_type": "execute_result"
    }
   ],
   "source": [
    "data[\"Rating\"].value_counts()"
   ]
  },
  {
   "cell_type": "markdown",
   "id": "966ec377-dcec-4211-a3db-4fd52dc82ae0",
   "metadata": {},
   "source": [
    "## Model training\n",
    "\n",
    "Using Pycaret, different machine learning models are trained and evaluated.\n",
    "The best model is selected for further evaluation."
   ]
  },
  {
   "cell_type": "code",
   "execution_count": 6,
   "id": "12485287-3e6e-41fe-95db-671c3432734b",
   "metadata": {},
   "outputs": [
    {
     "data": {
      "text/html": [
       "<style type=\"text/css\">\n",
       "#T_8cb84_row9_col1 {\n",
       "  background-color: lightgreen;\n",
       "}\n",
       "</style>\n",
       "<table id=\"T_8cb84\">\n",
       "  <thead>\n",
       "    <tr>\n",
       "      <th class=\"blank level0\" >&nbsp;</th>\n",
       "      <th id=\"T_8cb84_level0_col0\" class=\"col_heading level0 col0\" >Description</th>\n",
       "      <th id=\"T_8cb84_level0_col1\" class=\"col_heading level0 col1\" >Value</th>\n",
       "    </tr>\n",
       "  </thead>\n",
       "  <tbody>\n",
       "    <tr>\n",
       "      <th id=\"T_8cb84_level0_row0\" class=\"row_heading level0 row0\" >0</th>\n",
       "      <td id=\"T_8cb84_row0_col0\" class=\"data row0 col0\" >Session id</td>\n",
       "      <td id=\"T_8cb84_row0_col1\" class=\"data row0 col1\" >123</td>\n",
       "    </tr>\n",
       "    <tr>\n",
       "      <th id=\"T_8cb84_level0_row1\" class=\"row_heading level0 row1\" >1</th>\n",
       "      <td id=\"T_8cb84_row1_col0\" class=\"data row1 col0\" >Target</td>\n",
       "      <td id=\"T_8cb84_row1_col1\" class=\"data row1 col1\" >Rating</td>\n",
       "    </tr>\n",
       "    <tr>\n",
       "      <th id=\"T_8cb84_level0_row2\" class=\"row_heading level0 row2\" >2</th>\n",
       "      <td id=\"T_8cb84_row2_col0\" class=\"data row2 col0\" >Target type</td>\n",
       "      <td id=\"T_8cb84_row2_col1\" class=\"data row2 col1\" >Multiclass</td>\n",
       "    </tr>\n",
       "    <tr>\n",
       "      <th id=\"T_8cb84_level0_row3\" class=\"row_heading level0 row3\" >3</th>\n",
       "      <td id=\"T_8cb84_row3_col0\" class=\"data row3 col0\" >Target mapping</td>\n",
       "      <td id=\"T_8cb84_row3_col1\" class=\"data row3 col1\" >Ambiguous: 0, Bad: 1, Good: 2</td>\n",
       "    </tr>\n",
       "    <tr>\n",
       "      <th id=\"T_8cb84_level0_row4\" class=\"row_heading level0 row4\" >4</th>\n",
       "      <td id=\"T_8cb84_row4_col0\" class=\"data row4 col0\" >Original data shape</td>\n",
       "      <td id=\"T_8cb84_row4_col1\" class=\"data row4 col1\" >(319, 5)</td>\n",
       "    </tr>\n",
       "    <tr>\n",
       "      <th id=\"T_8cb84_level0_row5\" class=\"row_heading level0 row5\" >5</th>\n",
       "      <td id=\"T_8cb84_row5_col0\" class=\"data row5 col0\" >Transformed data shape</td>\n",
       "      <td id=\"T_8cb84_row5_col1\" class=\"data row5 col1\" >(319, 5)</td>\n",
       "    </tr>\n",
       "    <tr>\n",
       "      <th id=\"T_8cb84_level0_row6\" class=\"row_heading level0 row6\" >6</th>\n",
       "      <td id=\"T_8cb84_row6_col0\" class=\"data row6 col0\" >Transformed train set shape</td>\n",
       "      <td id=\"T_8cb84_row6_col1\" class=\"data row6 col1\" >(223, 5)</td>\n",
       "    </tr>\n",
       "    <tr>\n",
       "      <th id=\"T_8cb84_level0_row7\" class=\"row_heading level0 row7\" >7</th>\n",
       "      <td id=\"T_8cb84_row7_col0\" class=\"data row7 col0\" >Transformed test set shape</td>\n",
       "      <td id=\"T_8cb84_row7_col1\" class=\"data row7 col1\" >(96, 5)</td>\n",
       "    </tr>\n",
       "    <tr>\n",
       "      <th id=\"T_8cb84_level0_row8\" class=\"row_heading level0 row8\" >8</th>\n",
       "      <td id=\"T_8cb84_row8_col0\" class=\"data row8 col0\" >Numeric features</td>\n",
       "      <td id=\"T_8cb84_row8_col1\" class=\"data row8 col1\" >4</td>\n",
       "    </tr>\n",
       "    <tr>\n",
       "      <th id=\"T_8cb84_level0_row9\" class=\"row_heading level0 row9\" >9</th>\n",
       "      <td id=\"T_8cb84_row9_col0\" class=\"data row9 col0\" >Preprocess</td>\n",
       "      <td id=\"T_8cb84_row9_col1\" class=\"data row9 col1\" >True</td>\n",
       "    </tr>\n",
       "    <tr>\n",
       "      <th id=\"T_8cb84_level0_row10\" class=\"row_heading level0 row10\" >10</th>\n",
       "      <td id=\"T_8cb84_row10_col0\" class=\"data row10 col0\" >Imputation type</td>\n",
       "      <td id=\"T_8cb84_row10_col1\" class=\"data row10 col1\" >simple</td>\n",
       "    </tr>\n",
       "    <tr>\n",
       "      <th id=\"T_8cb84_level0_row11\" class=\"row_heading level0 row11\" >11</th>\n",
       "      <td id=\"T_8cb84_row11_col0\" class=\"data row11 col0\" >Numeric imputation</td>\n",
       "      <td id=\"T_8cb84_row11_col1\" class=\"data row11 col1\" >mean</td>\n",
       "    </tr>\n",
       "    <tr>\n",
       "      <th id=\"T_8cb84_level0_row12\" class=\"row_heading level0 row12\" >12</th>\n",
       "      <td id=\"T_8cb84_row12_col0\" class=\"data row12 col0\" >Categorical imputation</td>\n",
       "      <td id=\"T_8cb84_row12_col1\" class=\"data row12 col1\" >mode</td>\n",
       "    </tr>\n",
       "    <tr>\n",
       "      <th id=\"T_8cb84_level0_row13\" class=\"row_heading level0 row13\" >13</th>\n",
       "      <td id=\"T_8cb84_row13_col0\" class=\"data row13 col0\" >Fold Generator</td>\n",
       "      <td id=\"T_8cb84_row13_col1\" class=\"data row13 col1\" >StratifiedKFold</td>\n",
       "    </tr>\n",
       "    <tr>\n",
       "      <th id=\"T_8cb84_level0_row14\" class=\"row_heading level0 row14\" >14</th>\n",
       "      <td id=\"T_8cb84_row14_col0\" class=\"data row14 col0\" >Fold Number</td>\n",
       "      <td id=\"T_8cb84_row14_col1\" class=\"data row14 col1\" >10</td>\n",
       "    </tr>\n",
       "    <tr>\n",
       "      <th id=\"T_8cb84_level0_row15\" class=\"row_heading level0 row15\" >15</th>\n",
       "      <td id=\"T_8cb84_row15_col0\" class=\"data row15 col0\" >CPU Jobs</td>\n",
       "      <td id=\"T_8cb84_row15_col1\" class=\"data row15 col1\" >-1</td>\n",
       "    </tr>\n",
       "    <tr>\n",
       "      <th id=\"T_8cb84_level0_row16\" class=\"row_heading level0 row16\" >16</th>\n",
       "      <td id=\"T_8cb84_row16_col0\" class=\"data row16 col0\" >Use GPU</td>\n",
       "      <td id=\"T_8cb84_row16_col1\" class=\"data row16 col1\" >False</td>\n",
       "    </tr>\n",
       "    <tr>\n",
       "      <th id=\"T_8cb84_level0_row17\" class=\"row_heading level0 row17\" >17</th>\n",
       "      <td id=\"T_8cb84_row17_col0\" class=\"data row17 col0\" >Log Experiment</td>\n",
       "      <td id=\"T_8cb84_row17_col1\" class=\"data row17 col1\" >False</td>\n",
       "    </tr>\n",
       "    <tr>\n",
       "      <th id=\"T_8cb84_level0_row18\" class=\"row_heading level0 row18\" >18</th>\n",
       "      <td id=\"T_8cb84_row18_col0\" class=\"data row18 col0\" >Experiment Name</td>\n",
       "      <td id=\"T_8cb84_row18_col1\" class=\"data row18 col1\" >clf-default-name</td>\n",
       "    </tr>\n",
       "    <tr>\n",
       "      <th id=\"T_8cb84_level0_row19\" class=\"row_heading level0 row19\" >19</th>\n",
       "      <td id=\"T_8cb84_row19_col0\" class=\"data row19 col0\" >USI</td>\n",
       "      <td id=\"T_8cb84_row19_col1\" class=\"data row19 col1\" >a20c</td>\n",
       "    </tr>\n",
       "  </tbody>\n",
       "</table>\n"
      ],
      "text/plain": [
       "<pandas.io.formats.style.Styler at 0x204fc230cd0>"
      ]
     },
     "metadata": {},
     "output_type": "display_data"
    }
   ],
   "source": [
    "from pycaret.classification import *\n",
    "s = setup(data, target = 'Rating', session_id = 123,train_size = 0.7)"
   ]
  },
  {
   "cell_type": "code",
   "execution_count": 7,
   "id": "8803fa7a-4286-48cc-bd6f-f332cd35a547",
   "metadata": {},
   "outputs": [
    {
     "data": {
      "text/html": [],
      "text/plain": [
       "<IPython.core.display.HTML object>"
      ]
     },
     "metadata": {},
     "output_type": "display_data"
    },
    {
     "data": {
      "text/html": [
       "<style type=\"text/css\">\n",
       "#T_7d94f th {\n",
       "  text-align: left;\n",
       "}\n",
       "#T_7d94f_row0_col0, #T_7d94f_row0_col2, #T_7d94f_row1_col0, #T_7d94f_row1_col1, #T_7d94f_row1_col3, #T_7d94f_row1_col4, #T_7d94f_row1_col5, #T_7d94f_row1_col6, #T_7d94f_row1_col7, #T_7d94f_row2_col0, #T_7d94f_row2_col1, #T_7d94f_row2_col2, #T_7d94f_row2_col3, #T_7d94f_row2_col4, #T_7d94f_row2_col5, #T_7d94f_row2_col6, #T_7d94f_row2_col7, #T_7d94f_row3_col0, #T_7d94f_row3_col1, #T_7d94f_row3_col2, #T_7d94f_row3_col3, #T_7d94f_row3_col4, #T_7d94f_row3_col5, #T_7d94f_row3_col6, #T_7d94f_row3_col7, #T_7d94f_row4_col0, #T_7d94f_row4_col1, #T_7d94f_row4_col2, #T_7d94f_row4_col3, #T_7d94f_row4_col4, #T_7d94f_row4_col5, #T_7d94f_row4_col6, #T_7d94f_row4_col7, #T_7d94f_row5_col0, #T_7d94f_row5_col1, #T_7d94f_row5_col2, #T_7d94f_row5_col3, #T_7d94f_row5_col4, #T_7d94f_row5_col5, #T_7d94f_row5_col6, #T_7d94f_row5_col7, #T_7d94f_row6_col0, #T_7d94f_row6_col1, #T_7d94f_row6_col2, #T_7d94f_row6_col3, #T_7d94f_row6_col4, #T_7d94f_row6_col5, #T_7d94f_row6_col6, #T_7d94f_row6_col7, #T_7d94f_row7_col0, #T_7d94f_row7_col1, #T_7d94f_row7_col2, #T_7d94f_row7_col3, #T_7d94f_row7_col4, #T_7d94f_row7_col5, #T_7d94f_row7_col6, #T_7d94f_row7_col7, #T_7d94f_row8_col0, #T_7d94f_row8_col1, #T_7d94f_row8_col2, #T_7d94f_row8_col3, #T_7d94f_row8_col4, #T_7d94f_row8_col5, #T_7d94f_row8_col6, #T_7d94f_row8_col7, #T_7d94f_row9_col0, #T_7d94f_row9_col1, #T_7d94f_row9_col2, #T_7d94f_row9_col3, #T_7d94f_row9_col4, #T_7d94f_row9_col5, #T_7d94f_row9_col6, #T_7d94f_row9_col7, #T_7d94f_row10_col0, #T_7d94f_row10_col1, #T_7d94f_row10_col2, #T_7d94f_row10_col3, #T_7d94f_row10_col4, #T_7d94f_row10_col5, #T_7d94f_row10_col6, #T_7d94f_row10_col7, #T_7d94f_row11_col0, #T_7d94f_row11_col1, #T_7d94f_row11_col2, #T_7d94f_row11_col3, #T_7d94f_row11_col4, #T_7d94f_row11_col5, #T_7d94f_row11_col6, #T_7d94f_row11_col7, #T_7d94f_row12_col0, #T_7d94f_row12_col1, #T_7d94f_row12_col2, #T_7d94f_row12_col3, #T_7d94f_row12_col4, #T_7d94f_row12_col5, #T_7d94f_row12_col6, #T_7d94f_row12_col7, #T_7d94f_row13_col0, #T_7d94f_row13_col1, #T_7d94f_row13_col2, #T_7d94f_row13_col3, #T_7d94f_row13_col4, #T_7d94f_row13_col5, #T_7d94f_row13_col6, #T_7d94f_row13_col7 {\n",
       "  text-align: left;\n",
       "}\n",
       "#T_7d94f_row0_col1, #T_7d94f_row0_col3, #T_7d94f_row0_col4, #T_7d94f_row0_col5, #T_7d94f_row0_col6, #T_7d94f_row0_col7, #T_7d94f_row1_col2 {\n",
       "  text-align: left;\n",
       "  background-color: yellow;\n",
       "}\n",
       "#T_7d94f_row0_col8, #T_7d94f_row1_col8, #T_7d94f_row2_col8, #T_7d94f_row3_col8, #T_7d94f_row4_col8, #T_7d94f_row5_col8, #T_7d94f_row6_col8, #T_7d94f_row7_col8, #T_7d94f_row8_col8, #T_7d94f_row9_col8, #T_7d94f_row10_col8, #T_7d94f_row12_col8, #T_7d94f_row13_col8 {\n",
       "  text-align: left;\n",
       "  background-color: lightgrey;\n",
       "}\n",
       "#T_7d94f_row11_col8 {\n",
       "  text-align: left;\n",
       "  background-color: yellow;\n",
       "  background-color: lightgrey;\n",
       "}\n",
       "</style>\n",
       "<table id=\"T_7d94f\">\n",
       "  <thead>\n",
       "    <tr>\n",
       "      <th class=\"blank level0\" >&nbsp;</th>\n",
       "      <th id=\"T_7d94f_level0_col0\" class=\"col_heading level0 col0\" >Model</th>\n",
       "      <th id=\"T_7d94f_level0_col1\" class=\"col_heading level0 col1\" >Accuracy</th>\n",
       "      <th id=\"T_7d94f_level0_col2\" class=\"col_heading level0 col2\" >AUC</th>\n",
       "      <th id=\"T_7d94f_level0_col3\" class=\"col_heading level0 col3\" >Recall</th>\n",
       "      <th id=\"T_7d94f_level0_col4\" class=\"col_heading level0 col4\" >Prec.</th>\n",
       "      <th id=\"T_7d94f_level0_col5\" class=\"col_heading level0 col5\" >F1</th>\n",
       "      <th id=\"T_7d94f_level0_col6\" class=\"col_heading level0 col6\" >Kappa</th>\n",
       "      <th id=\"T_7d94f_level0_col7\" class=\"col_heading level0 col7\" >MCC</th>\n",
       "      <th id=\"T_7d94f_level0_col8\" class=\"col_heading level0 col8\" >TT (Sec)</th>\n",
       "    </tr>\n",
       "  </thead>\n",
       "  <tbody>\n",
       "    <tr>\n",
       "      <th id=\"T_7d94f_level0_row0\" class=\"row_heading level0 row0\" >rf</th>\n",
       "      <td id=\"T_7d94f_row0_col0\" class=\"data row0 col0\" >Random Forest Classifier</td>\n",
       "      <td id=\"T_7d94f_row0_col1\" class=\"data row0 col1\" >0.8883</td>\n",
       "      <td id=\"T_7d94f_row0_col2\" class=\"data row0 col2\" >0.9575</td>\n",
       "      <td id=\"T_7d94f_row0_col3\" class=\"data row0 col3\" >0.8883</td>\n",
       "      <td id=\"T_7d94f_row0_col4\" class=\"data row0 col4\" >0.8923</td>\n",
       "      <td id=\"T_7d94f_row0_col5\" class=\"data row0 col5\" >0.8813</td>\n",
       "      <td id=\"T_7d94f_row0_col6\" class=\"data row0 col6\" >0.8096</td>\n",
       "      <td id=\"T_7d94f_row0_col7\" class=\"data row0 col7\" >0.8167</td>\n",
       "      <td id=\"T_7d94f_row0_col8\" class=\"data row0 col8\" >0.0660</td>\n",
       "    </tr>\n",
       "    <tr>\n",
       "      <th id=\"T_7d94f_level0_row1\" class=\"row_heading level0 row1\" >et</th>\n",
       "      <td id=\"T_7d94f_row1_col0\" class=\"data row1 col0\" >Extra Trees Classifier</td>\n",
       "      <td id=\"T_7d94f_row1_col1\" class=\"data row1 col1\" >0.8745</td>\n",
       "      <td id=\"T_7d94f_row1_col2\" class=\"data row1 col2\" >0.9621</td>\n",
       "      <td id=\"T_7d94f_row1_col3\" class=\"data row1 col3\" >0.8745</td>\n",
       "      <td id=\"T_7d94f_row1_col4\" class=\"data row1 col4\" >0.8702</td>\n",
       "      <td id=\"T_7d94f_row1_col5\" class=\"data row1 col5\" >0.8630</td>\n",
       "      <td id=\"T_7d94f_row1_col6\" class=\"data row1 col6\" >0.7840</td>\n",
       "      <td id=\"T_7d94f_row1_col7\" class=\"data row1 col7\" >0.7915</td>\n",
       "      <td id=\"T_7d94f_row1_col8\" class=\"data row1 col8\" >0.0520</td>\n",
       "    </tr>\n",
       "    <tr>\n",
       "      <th id=\"T_7d94f_level0_row2\" class=\"row_heading level0 row2\" >gbc</th>\n",
       "      <td id=\"T_7d94f_row2_col0\" class=\"data row2 col0\" >Gradient Boosting Classifier</td>\n",
       "      <td id=\"T_7d94f_row2_col1\" class=\"data row2 col1\" >0.8573</td>\n",
       "      <td id=\"T_7d94f_row2_col2\" class=\"data row2 col2\" >0.9497</td>\n",
       "      <td id=\"T_7d94f_row2_col3\" class=\"data row2 col3\" >0.8573</td>\n",
       "      <td id=\"T_7d94f_row2_col4\" class=\"data row2 col4\" >0.8622</td>\n",
       "      <td id=\"T_7d94f_row2_col5\" class=\"data row2 col5\" >0.8504</td>\n",
       "      <td id=\"T_7d94f_row2_col6\" class=\"data row2 col6\" >0.7606</td>\n",
       "      <td id=\"T_7d94f_row2_col7\" class=\"data row2 col7\" >0.7675</td>\n",
       "      <td id=\"T_7d94f_row2_col8\" class=\"data row2 col8\" >0.0870</td>\n",
       "    </tr>\n",
       "    <tr>\n",
       "      <th id=\"T_7d94f_level0_row3\" class=\"row_heading level0 row3\" >lightgbm</th>\n",
       "      <td id=\"T_7d94f_row3_col0\" class=\"data row3 col0\" >Light Gradient Boosting Machine</td>\n",
       "      <td id=\"T_7d94f_row3_col1\" class=\"data row3 col1\" >0.8563</td>\n",
       "      <td id=\"T_7d94f_row3_col2\" class=\"data row3 col2\" >0.9570</td>\n",
       "      <td id=\"T_7d94f_row3_col3\" class=\"data row3 col3\" >0.8563</td>\n",
       "      <td id=\"T_7d94f_row3_col4\" class=\"data row3 col4\" >0.8642</td>\n",
       "      <td id=\"T_7d94f_row3_col5\" class=\"data row3 col5\" >0.8525</td>\n",
       "      <td id=\"T_7d94f_row3_col6\" class=\"data row3 col6\" >0.7573</td>\n",
       "      <td id=\"T_7d94f_row3_col7\" class=\"data row3 col7\" >0.7631</td>\n",
       "      <td id=\"T_7d94f_row3_col8\" class=\"data row3 col8\" >0.1430</td>\n",
       "    </tr>\n",
       "    <tr>\n",
       "      <th id=\"T_7d94f_level0_row4\" class=\"row_heading level0 row4\" >dt</th>\n",
       "      <td id=\"T_7d94f_row4_col0\" class=\"data row4 col0\" >Decision Tree Classifier</td>\n",
       "      <td id=\"T_7d94f_row4_col1\" class=\"data row4 col1\" >0.8300</td>\n",
       "      <td id=\"T_7d94f_row4_col2\" class=\"data row4 col2\" >0.8751</td>\n",
       "      <td id=\"T_7d94f_row4_col3\" class=\"data row4 col3\" >0.8300</td>\n",
       "      <td id=\"T_7d94f_row4_col4\" class=\"data row4 col4\" >0.8407</td>\n",
       "      <td id=\"T_7d94f_row4_col5\" class=\"data row4 col5\" >0.8300</td>\n",
       "      <td id=\"T_7d94f_row4_col6\" class=\"data row4 col6\" >0.7167</td>\n",
       "      <td id=\"T_7d94f_row4_col7\" class=\"data row4 col7\" >0.7225</td>\n",
       "      <td id=\"T_7d94f_row4_col8\" class=\"data row4 col8\" >0.0080</td>\n",
       "    </tr>\n",
       "    <tr>\n",
       "      <th id=\"T_7d94f_level0_row5\" class=\"row_heading level0 row5\" >lda</th>\n",
       "      <td id=\"T_7d94f_row5_col0\" class=\"data row5 col0\" >Linear Discriminant Analysis</td>\n",
       "      <td id=\"T_7d94f_row5_col1\" class=\"data row5 col1\" >0.8300</td>\n",
       "      <td id=\"T_7d94f_row5_col2\" class=\"data row5 col2\" >0.9435</td>\n",
       "      <td id=\"T_7d94f_row5_col3\" class=\"data row5 col3\" >0.8300</td>\n",
       "      <td id=\"T_7d94f_row5_col4\" class=\"data row5 col4\" >0.7906</td>\n",
       "      <td id=\"T_7d94f_row5_col5\" class=\"data row5 col5\" >0.7960</td>\n",
       "      <td id=\"T_7d94f_row5_col6\" class=\"data row5 col6\" >0.7038</td>\n",
       "      <td id=\"T_7d94f_row5_col7\" class=\"data row5 col7\" >0.7212</td>\n",
       "      <td id=\"T_7d94f_row5_col8\" class=\"data row5 col8\" >0.0080</td>\n",
       "    </tr>\n",
       "    <tr>\n",
       "      <th id=\"T_7d94f_level0_row6\" class=\"row_heading level0 row6\" >ridge</th>\n",
       "      <td id=\"T_7d94f_row6_col0\" class=\"data row6 col0\" >Ridge Classifier</td>\n",
       "      <td id=\"T_7d94f_row6_col1\" class=\"data row6 col1\" >0.8211</td>\n",
       "      <td id=\"T_7d94f_row6_col2\" class=\"data row6 col2\" >0.0000</td>\n",
       "      <td id=\"T_7d94f_row6_col3\" class=\"data row6 col3\" >0.8211</td>\n",
       "      <td id=\"T_7d94f_row6_col4\" class=\"data row6 col4\" >0.7124</td>\n",
       "      <td id=\"T_7d94f_row6_col5\" class=\"data row6 col5\" >0.7594</td>\n",
       "      <td id=\"T_7d94f_row6_col6\" class=\"data row6 col6\" >0.6799</td>\n",
       "      <td id=\"T_7d94f_row6_col7\" class=\"data row6 col7\" >0.7083</td>\n",
       "      <td id=\"T_7d94f_row6_col8\" class=\"data row6 col8\" >0.0100</td>\n",
       "    </tr>\n",
       "    <tr>\n",
       "      <th id=\"T_7d94f_level0_row7\" class=\"row_heading level0 row7\" >ada</th>\n",
       "      <td id=\"T_7d94f_row7_col0\" class=\"data row7 col0\" >Ada Boost Classifier</td>\n",
       "      <td id=\"T_7d94f_row7_col1\" class=\"data row7 col1\" >0.8170</td>\n",
       "      <td id=\"T_7d94f_row7_col2\" class=\"data row7 col2\" >0.9377</td>\n",
       "      <td id=\"T_7d94f_row7_col3\" class=\"data row7 col3\" >0.8170</td>\n",
       "      <td id=\"T_7d94f_row7_col4\" class=\"data row7 col4\" >0.8397</td>\n",
       "      <td id=\"T_7d94f_row7_col5\" class=\"data row7 col5\" >0.8195</td>\n",
       "      <td id=\"T_7d94f_row7_col6\" class=\"data row7 col6\" >0.7014</td>\n",
       "      <td id=\"T_7d94f_row7_col7\" class=\"data row7 col7\" >0.7109</td>\n",
       "      <td id=\"T_7d94f_row7_col8\" class=\"data row7 col8\" >0.0300</td>\n",
       "    </tr>\n",
       "    <tr>\n",
       "      <th id=\"T_7d94f_level0_row8\" class=\"row_heading level0 row8\" >qda</th>\n",
       "      <td id=\"T_7d94f_row8_col0\" class=\"data row8 col0\" >Quadratic Discriminant Analysis</td>\n",
       "      <td id=\"T_7d94f_row8_col1\" class=\"data row8 col1\" >0.7992</td>\n",
       "      <td id=\"T_7d94f_row8_col2\" class=\"data row8 col2\" >0.9381</td>\n",
       "      <td id=\"T_7d94f_row8_col3\" class=\"data row8 col3\" >0.7992</td>\n",
       "      <td id=\"T_7d94f_row8_col4\" class=\"data row8 col4\" >0.8220</td>\n",
       "      <td id=\"T_7d94f_row8_col5\" class=\"data row8 col5\" >0.7971</td>\n",
       "      <td id=\"T_7d94f_row8_col6\" class=\"data row8 col6\" >0.6701</td>\n",
       "      <td id=\"T_7d94f_row8_col7\" class=\"data row8 col7\" >0.6811</td>\n",
       "      <td id=\"T_7d94f_row8_col8\" class=\"data row8 col8\" >0.0120</td>\n",
       "    </tr>\n",
       "    <tr>\n",
       "      <th id=\"T_7d94f_level0_row9\" class=\"row_heading level0 row9\" >knn</th>\n",
       "      <td id=\"T_7d94f_row9_col0\" class=\"data row9 col0\" >K Neighbors Classifier</td>\n",
       "      <td id=\"T_7d94f_row9_col1\" class=\"data row9 col1\" >0.6589</td>\n",
       "      <td id=\"T_7d94f_row9_col2\" class=\"data row9 col2\" >0.7786</td>\n",
       "      <td id=\"T_7d94f_row9_col3\" class=\"data row9 col3\" >0.6589</td>\n",
       "      <td id=\"T_7d94f_row9_col4\" class=\"data row9 col4\" >0.6413</td>\n",
       "      <td id=\"T_7d94f_row9_col5\" class=\"data row9 col5\" >0.6471</td>\n",
       "      <td id=\"T_7d94f_row9_col6\" class=\"data row9 col6\" >0.4218</td>\n",
       "      <td id=\"T_7d94f_row9_col7\" class=\"data row9 col7\" >0.4271</td>\n",
       "      <td id=\"T_7d94f_row9_col8\" class=\"data row9 col8\" >0.0220</td>\n",
       "    </tr>\n",
       "    <tr>\n",
       "      <th id=\"T_7d94f_level0_row10\" class=\"row_heading level0 row10\" >lr</th>\n",
       "      <td id=\"T_7d94f_row10_col0\" class=\"data row10 col0\" >Logistic Regression</td>\n",
       "      <td id=\"T_7d94f_row10_col1\" class=\"data row10 col1\" >0.5115</td>\n",
       "      <td id=\"T_7d94f_row10_col2\" class=\"data row10 col2\" >0.7814</td>\n",
       "      <td id=\"T_7d94f_row10_col3\" class=\"data row10 col3\" >0.5115</td>\n",
       "      <td id=\"T_7d94f_row10_col4\" class=\"data row10 col4\" >0.2622</td>\n",
       "      <td id=\"T_7d94f_row10_col5\" class=\"data row10 col5\" >0.3465</td>\n",
       "      <td id=\"T_7d94f_row10_col6\" class=\"data row10 col6\" >0.0000</td>\n",
       "      <td id=\"T_7d94f_row10_col7\" class=\"data row10 col7\" >0.0000</td>\n",
       "      <td id=\"T_7d94f_row10_col8\" class=\"data row10 col8\" >0.7610</td>\n",
       "    </tr>\n",
       "    <tr>\n",
       "      <th id=\"T_7d94f_level0_row11\" class=\"row_heading level0 row11\" >dummy</th>\n",
       "      <td id=\"T_7d94f_row11_col0\" class=\"data row11 col0\" >Dummy Classifier</td>\n",
       "      <td id=\"T_7d94f_row11_col1\" class=\"data row11 col1\" >0.5115</td>\n",
       "      <td id=\"T_7d94f_row11_col2\" class=\"data row11 col2\" >0.5000</td>\n",
       "      <td id=\"T_7d94f_row11_col3\" class=\"data row11 col3\" >0.5115</td>\n",
       "      <td id=\"T_7d94f_row11_col4\" class=\"data row11 col4\" >0.2622</td>\n",
       "      <td id=\"T_7d94f_row11_col5\" class=\"data row11 col5\" >0.3465</td>\n",
       "      <td id=\"T_7d94f_row11_col6\" class=\"data row11 col6\" >0.0000</td>\n",
       "      <td id=\"T_7d94f_row11_col7\" class=\"data row11 col7\" >0.0000</td>\n",
       "      <td id=\"T_7d94f_row11_col8\" class=\"data row11 col8\" >0.0070</td>\n",
       "    </tr>\n",
       "    <tr>\n",
       "      <th id=\"T_7d94f_level0_row12\" class=\"row_heading level0 row12\" >svm</th>\n",
       "      <td id=\"T_7d94f_row12_col0\" class=\"data row12 col0\" >SVM - Linear Kernel</td>\n",
       "      <td id=\"T_7d94f_row12_col1\" class=\"data row12 col1\" >0.4984</td>\n",
       "      <td id=\"T_7d94f_row12_col2\" class=\"data row12 col2\" >0.0000</td>\n",
       "      <td id=\"T_7d94f_row12_col3\" class=\"data row12 col3\" >0.4984</td>\n",
       "      <td id=\"T_7d94f_row12_col4\" class=\"data row12 col4\" >0.2514</td>\n",
       "      <td id=\"T_7d94f_row12_col5\" class=\"data row12 col5\" >0.3335</td>\n",
       "      <td id=\"T_7d94f_row12_col6\" class=\"data row12 col6\" >0.0000</td>\n",
       "      <td id=\"T_7d94f_row12_col7\" class=\"data row12 col7\" >0.0000</td>\n",
       "      <td id=\"T_7d94f_row12_col8\" class=\"data row12 col8\" >0.0200</td>\n",
       "    </tr>\n",
       "    <tr>\n",
       "      <th id=\"T_7d94f_level0_row13\" class=\"row_heading level0 row13\" >nb</th>\n",
       "      <td id=\"T_7d94f_row13_col0\" class=\"data row13 col0\" >Naive Bayes</td>\n",
       "      <td id=\"T_7d94f_row13_col1\" class=\"data row13 col1\" >0.3816</td>\n",
       "      <td id=\"T_7d94f_row13_col2\" class=\"data row13 col2\" >0.4766</td>\n",
       "      <td id=\"T_7d94f_row13_col3\" class=\"data row13 col3\" >0.3816</td>\n",
       "      <td id=\"T_7d94f_row13_col4\" class=\"data row13 col4\" >0.4899</td>\n",
       "      <td id=\"T_7d94f_row13_col5\" class=\"data row13 col5\" >0.2805</td>\n",
       "      <td id=\"T_7d94f_row13_col6\" class=\"data row13 col6\" >0.0584</td>\n",
       "      <td id=\"T_7d94f_row13_col7\" class=\"data row13 col7\" >0.1170</td>\n",
       "      <td id=\"T_7d94f_row13_col8\" class=\"data row13 col8\" >0.0090</td>\n",
       "    </tr>\n",
       "  </tbody>\n",
       "</table>\n"
      ],
      "text/plain": [
       "<pandas.io.formats.style.Styler at 0x204fc20c690>"
      ]
     },
     "metadata": {},
     "output_type": "display_data"
    },
    {
     "data": {
      "text/html": [],
      "text/plain": [
       "<IPython.core.display.HTML object>"
      ]
     },
     "metadata": {},
     "output_type": "display_data"
    }
   ],
   "source": [
    "best = compare_models()"
   ]
  },
  {
   "cell_type": "markdown",
   "id": "e7f90ee0-8423-4556-b3d3-1ee852dcb722",
   "metadata": {},
   "source": [
    "The best model is a RandomForestClassifier"
   ]
  },
  {
   "cell_type": "code",
   "execution_count": 107,
   "id": "c38726c4-c4e8-4247-beb6-d4695bbffd3b",
   "metadata": {},
   "outputs": [
    {
     "name": "stdout",
     "output_type": "stream",
     "text": [
      "RandomForestClassifier(bootstrap=True, ccp_alpha=0.0, class_weight=None,\n",
      "                       criterion='gini', max_depth=None, max_features='sqrt',\n",
      "                       max_leaf_nodes=None, max_samples=None,\n",
      "                       min_impurity_decrease=0.0, min_samples_leaf=1,\n",
      "                       min_samples_split=2, min_weight_fraction_leaf=0.0,\n",
      "                       n_estimators=100, n_jobs=-1, oob_score=False,\n",
      "                       random_state=123, verbose=0, warm_start=False)\n"
     ]
    }
   ],
   "source": [
    "print(best)"
   ]
  },
  {
   "cell_type": "markdown",
   "id": "b2b5b344-a650-4106-9af3-8c366952f5d4",
   "metadata": {},
   "source": [
    "## Model evaluation\n",
    "\n",
    "### Evaluation on test data"
   ]
  },
  {
   "cell_type": "code",
   "execution_count": 1,
   "id": "0c493bbf-926e-44e7-90a4-d9218afb4752",
   "metadata": {},
   "outputs": [
    {
     "ename": "NameError",
     "evalue": "name 'evaluate_model' is not defined",
     "output_type": "error",
     "traceback": [
      "\u001b[1;31m---------------------------------------------------------------------------\u001b[0m",
      "\u001b[1;31mNameError\u001b[0m                                 Traceback (most recent call last)",
      "Cell \u001b[1;32mIn[1], line 1\u001b[0m\n\u001b[1;32m----> 1\u001b[0m evaluate_model(best)\n",
      "\u001b[1;31mNameError\u001b[0m: name 'evaluate_model' is not defined"
     ]
    }
   ],
   "source": [
    "evaluate_model(best)"
   ]
  },
  {
   "cell_type": "code",
   "execution_count": 11,
   "id": "421b9645-678b-435d-b4aa-9b3d7cd99adb",
   "metadata": {},
   "outputs": [
    {
     "data": {
      "text/html": [],
      "text/plain": [
       "<IPython.core.display.HTML object>"
      ]
     },
     "metadata": {},
     "output_type": "display_data"
    },
    {
     "data": {
      "image/png": "[encoded data removed]",
      "text/plain": [
       "<Figure size 800x550 with 1 Axes>"
      ]
     },
     "metadata": {},
     "output_type": "display_data"
    }
   ],
   "source": [
    "plot_model(best, plot='confusion_matrix',plot_kwargs = {'percent' : True})"
   ]
  },
  {
   "cell_type": "code",
   "execution_count": 8,
   "id": "04716e0c-e043-43a3-97fe-89c6b7fc13e0",
   "metadata": {},
   "outputs": [
    {
     "data": {
      "text/html": [
       "<div>\n",
       "<style scoped>\n",
       "    .dataframe tbody tr th:only-of-type {\n",
       "        vertical-align: middle;\n",
       "    }\n",
       "\n",
       "    .dataframe tbody tr th {\n",
       "        vertical-align: top;\n",
       "    }\n",
       "\n",
       "    .dataframe thead th {\n",
       "        text-align: right;\n",
       "    }\n",
       "</style>\n",
       "<table border=\"1\" class=\"dataframe\">\n",
       "  <thead>\n",
       "    <tr style=\"text-align: right;\">\n",
       "      <th></th>\n",
       "      <th>AUC</th>\n",
       "      <th>SNR</th>\n",
       "      <th>peak_cor</th>\n",
       "      <th>pop</th>\n",
       "    </tr>\n",
       "  </thead>\n",
       "  <tbody>\n",
       "    <tr>\n",
       "      <th>192</th>\n",
       "      <td>1.122445e+04</td>\n",
       "      <td>4.078288</td>\n",
       "      <td>0.763713</td>\n",
       "      <td>7.267442</td>\n",
       "    </tr>\n",
       "    <tr>\n",
       "      <th>231</th>\n",
       "      <td>5.056512e+05</td>\n",
       "      <td>12.250673</td>\n",
       "      <td>0.954707</td>\n",
       "      <td>12.285714</td>\n",
       "    </tr>\n",
       "    <tr>\n",
       "      <th>255</th>\n",
       "      <td>6.510298e+06</td>\n",
       "      <td>9.232882</td>\n",
       "      <td>0.945674</td>\n",
       "      <td>13.783582</td>\n",
       "    </tr>\n",
       "    <tr>\n",
       "      <th>311</th>\n",
       "      <td>7.959475e+03</td>\n",
       "      <td>3.706822</td>\n",
       "      <td>0.922754</td>\n",
       "      <td>7.000000</td>\n",
       "    </tr>\n",
       "    <tr>\n",
       "      <th>117</th>\n",
       "      <td>7.795549e+05</td>\n",
       "      <td>6.689579</td>\n",
       "      <td>0.728355</td>\n",
       "      <td>14.253732</td>\n",
       "    </tr>\n",
       "    <tr>\n",
       "      <th>...</th>\n",
       "      <td>...</td>\n",
       "      <td>...</td>\n",
       "      <td>...</td>\n",
       "      <td>...</td>\n",
       "    </tr>\n",
       "    <tr>\n",
       "      <th>89</th>\n",
       "      <td>2.710762e+06</td>\n",
       "      <td>4.175828</td>\n",
       "      <td>0.815785</td>\n",
       "      <td>11.126865</td>\n",
       "    </tr>\n",
       "    <tr>\n",
       "      <th>312</th>\n",
       "      <td>2.235730e+05</td>\n",
       "      <td>3.761782</td>\n",
       "      <td>0.358288</td>\n",
       "      <td>9.380597</td>\n",
       "    </tr>\n",
       "    <tr>\n",
       "      <th>55</th>\n",
       "      <td>4.140472e+06</td>\n",
       "      <td>11.475679</td>\n",
       "      <td>0.962211</td>\n",
       "      <td>9.067164</td>\n",
       "    </tr>\n",
       "    <tr>\n",
       "      <th>78</th>\n",
       "      <td>3.643346e+05</td>\n",
       "      <td>11.365378</td>\n",
       "      <td>0.913461</td>\n",
       "      <td>12.485075</td>\n",
       "    </tr>\n",
       "    <tr>\n",
       "      <th>81</th>\n",
       "      <td>5.294740e+05</td>\n",
       "      <td>5.706251</td>\n",
       "      <td>0.814984</td>\n",
       "      <td>8.694030</td>\n",
       "    </tr>\n",
       "  </tbody>\n",
       "</table>\n",
       "<p>96 rows × 4 columns</p>\n",
       "</div>"
      ],
      "text/plain": [
       "              AUC        SNR  peak_cor        pop\n",
       "192  1.122445e+04   4.078288  0.763713   7.267442\n",
       "231  5.056512e+05  12.250673  0.954707  12.285714\n",
       "255  6.510298e+06   9.232882  0.945674  13.783582\n",
       "311  7.959475e+03   3.706822  0.922754   7.000000\n",
       "117  7.795549e+05   6.689579  0.728355  14.253732\n",
       "..            ...        ...       ...        ...\n",
       "89   2.710762e+06   4.175828  0.815785  11.126865\n",
       "312  2.235730e+05   3.761782  0.358288   9.380597\n",
       "55   4.140472e+06  11.475679  0.962211   9.067164\n",
       "78   3.643346e+05  11.365378  0.913461  12.485075\n",
       "81   5.294740e+05   5.706251  0.814984   8.694030\n",
       "\n",
       "[96 rows x 4 columns]"
      ]
     },
     "execution_count": 8,
     "metadata": {},
     "output_type": "execute_result"
    }
   ],
   "source": [
    "test_data = get_config(variable=\"X_test\")\n",
    "test_data"
   ]
  },
  {
   "cell_type": "code",
   "execution_count": 9,
   "id": "4d8ae201-7fbf-44cc-bcb0-65fd61465bdc",
   "metadata": {},
   "outputs": [
    {
     "data": {
      "text/plain": [
       "192          Bad\n",
       "231         Good\n",
       "255         Good\n",
       "311          Bad\n",
       "117    Ambiguous\n",
       "         ...    \n",
       "89     Ambiguous\n",
       "312          Bad\n",
       "55          Good\n",
       "78          Good\n",
       "81     Ambiguous\n",
       "Name: Rating, Length: 96, dtype: category\n",
       "Categories (3, object): ['Ambiguous', 'Bad', 'Good']"
      ]
     },
     "execution_count": 9,
     "metadata": {},
     "output_type": "execute_result"
    }
   ],
   "source": [
    "test_y = get_config(variable=\"y_test\")\n",
    "test_y"
   ]
  },
  {
   "cell_type": "code",
   "execution_count": 10,
   "id": "9a065640-ed1d-4c0d-ae66-923effbaef25",
   "metadata": {},
   "outputs": [
    {
     "data": {
      "text/html": [],
      "text/plain": [
       "<IPython.core.display.HTML object>"
      ]
     },
     "metadata": {},
     "output_type": "display_data"
    },
    {
     "data": {
      "text/html": [
       "<div>\n",
       "<style scoped>\n",
       "    .dataframe tbody tr th:only-of-type {\n",
       "        vertical-align: middle;\n",
       "    }\n",
       "\n",
       "    .dataframe tbody tr th {\n",
       "        vertical-align: top;\n",
       "    }\n",
       "\n",
       "    .dataframe thead th {\n",
       "        text-align: right;\n",
       "    }\n",
       "</style>\n",
       "<table border=\"1\" class=\"dataframe\">\n",
       "  <thead>\n",
       "    <tr style=\"text-align: right;\">\n",
       "      <th></th>\n",
       "      <th>AUC</th>\n",
       "      <th>SNR</th>\n",
       "      <th>peak_cor</th>\n",
       "      <th>pop</th>\n",
       "      <th>prediction_label</th>\n",
       "      <th>prediction_score</th>\n",
       "    </tr>\n",
       "  </thead>\n",
       "  <tbody>\n",
       "    <tr>\n",
       "      <th>192</th>\n",
       "      <td>1.122445e+04</td>\n",
       "      <td>4.078288</td>\n",
       "      <td>0.763713</td>\n",
       "      <td>7.267442</td>\n",
       "      <td>Bad</td>\n",
       "      <td>0.90</td>\n",
       "    </tr>\n",
       "    <tr>\n",
       "      <th>231</th>\n",
       "      <td>5.056512e+05</td>\n",
       "      <td>12.250673</td>\n",
       "      <td>0.954707</td>\n",
       "      <td>12.285714</td>\n",
       "      <td>Good</td>\n",
       "      <td>0.98</td>\n",
       "    </tr>\n",
       "    <tr>\n",
       "      <th>255</th>\n",
       "      <td>6.510298e+06</td>\n",
       "      <td>9.232882</td>\n",
       "      <td>0.945674</td>\n",
       "      <td>13.783582</td>\n",
       "      <td>Good</td>\n",
       "      <td>0.93</td>\n",
       "    </tr>\n",
       "    <tr>\n",
       "      <th>311</th>\n",
       "      <td>7.959475e+03</td>\n",
       "      <td>3.706822</td>\n",
       "      <td>0.922754</td>\n",
       "      <td>7.000000</td>\n",
       "      <td>Bad</td>\n",
       "      <td>0.91</td>\n",
       "    </tr>\n",
       "    <tr>\n",
       "      <th>117</th>\n",
       "      <td>7.795549e+05</td>\n",
       "      <td>6.689579</td>\n",
       "      <td>0.728355</td>\n",
       "      <td>14.253732</td>\n",
       "      <td>Ambiguous</td>\n",
       "      <td>0.89</td>\n",
       "    </tr>\n",
       "    <tr>\n",
       "      <th>...</th>\n",
       "      <td>...</td>\n",
       "      <td>...</td>\n",
       "      <td>...</td>\n",
       "      <td>...</td>\n",
       "      <td>...</td>\n",
       "      <td>...</td>\n",
       "    </tr>\n",
       "    <tr>\n",
       "      <th>89</th>\n",
       "      <td>2.710762e+06</td>\n",
       "      <td>4.175828</td>\n",
       "      <td>0.815785</td>\n",
       "      <td>11.126865</td>\n",
       "      <td>Ambiguous</td>\n",
       "      <td>0.50</td>\n",
       "    </tr>\n",
       "    <tr>\n",
       "      <th>312</th>\n",
       "      <td>2.235730e+05</td>\n",
       "      <td>3.761782</td>\n",
       "      <td>0.358288</td>\n",
       "      <td>9.380597</td>\n",
       "      <td>Bad</td>\n",
       "      <td>0.99</td>\n",
       "    </tr>\n",
       "    <tr>\n",
       "      <th>55</th>\n",
       "      <td>4.140472e+06</td>\n",
       "      <td>11.475679</td>\n",
       "      <td>0.962211</td>\n",
       "      <td>9.067164</td>\n",
       "      <td>Good</td>\n",
       "      <td>0.96</td>\n",
       "    </tr>\n",
       "    <tr>\n",
       "      <th>78</th>\n",
       "      <td>3.643346e+05</td>\n",
       "      <td>11.365378</td>\n",
       "      <td>0.913461</td>\n",
       "      <td>12.485075</td>\n",
       "      <td>Good</td>\n",
       "      <td>0.81</td>\n",
       "    </tr>\n",
       "    <tr>\n",
       "      <th>81</th>\n",
       "      <td>5.294740e+05</td>\n",
       "      <td>5.706251</td>\n",
       "      <td>0.814984</td>\n",
       "      <td>8.694030</td>\n",
       "      <td>Ambiguous</td>\n",
       "      <td>0.57</td>\n",
       "    </tr>\n",
       "  </tbody>\n",
       "</table>\n",
       "<p>96 rows × 6 columns</p>\n",
       "</div>"
      ],
      "text/plain": [
       "              AUC        SNR  peak_cor        pop prediction_label  \\\n",
       "192  1.122445e+04   4.078288  0.763713   7.267442              Bad   \n",
       "231  5.056512e+05  12.250673  0.954707  12.285714             Good   \n",
       "255  6.510298e+06   9.232882  0.945674  13.783582             Good   \n",
       "311  7.959475e+03   3.706822  0.922754   7.000000              Bad   \n",
       "117  7.795549e+05   6.689579  0.728355  14.253732        Ambiguous   \n",
       "..            ...        ...       ...        ...              ...   \n",
       "89   2.710762e+06   4.175828  0.815785  11.126865        Ambiguous   \n",
       "312  2.235730e+05   3.761782  0.358288   9.380597              Bad   \n",
       "55   4.140472e+06  11.475679  0.962211   9.067164             Good   \n",
       "78   3.643346e+05  11.365378  0.913461  12.485075             Good   \n",
       "81   5.294740e+05   5.706251  0.814984   8.694030        Ambiguous   \n",
       "\n",
       "     prediction_score  \n",
       "192              0.90  \n",
       "231              0.98  \n",
       "255              0.93  \n",
       "311              0.91  \n",
       "117              0.89  \n",
       "..                ...  \n",
       "89               0.50  \n",
       "312              0.99  \n",
       "55               0.96  \n",
       "78               0.81  \n",
       "81               0.57  \n",
       "\n",
       "[96 rows x 6 columns]"
      ]
     },
     "execution_count": 10,
     "metadata": {},
     "output_type": "execute_result"
    }
   ],
   "source": [
    "predictions = predict_model(best, data = test_data)\n",
    "predictions"
   ]
  },
  {
   "cell_type": "code",
   "execution_count": 11,
   "id": "2e0c7438-d2b6-48be-a9ed-d90ea1eeed78",
   "metadata": {},
   "outputs": [
    {
     "data": {
      "text/plain": [
       "0.875"
      ]
     },
     "execution_count": 11,
     "metadata": {},
     "output_type": "execute_result"
    }
   ],
   "source": [
    "from sklearn.metrics import accuracy_score\n",
    "accuracy_score(test_y, predictions[\"prediction_label\"])"
   ]
  },
  {
   "cell_type": "code",
   "execution_count": 13,
   "id": "4835271f-2aac-4782-93c9-c9f280a8e583",
   "metadata": {},
   "outputs": [
    {
     "data": {
      "image/png": "[encoded data removed]",
      "text/plain": [
       "<Figure size 166x166 with 1 Axes>"
      ]
     },
     "metadata": {},
     "output_type": "display_data"
    }
   ],
   "source": [
    "from sklearn.metrics import ConfusionMatrixDisplay\n",
    "import matplotlib.pyplot as plt\n",
    "font = {'family' : 'arial',\n",
    "    'weight' : 'bold',\n",
    "    'size'   : 6}\n",
    "plt.rc('font', **font)\n",
    "disp = ConfusionMatrixDisplay.from_predictions(test_y, predictions[\"prediction_label\"],colorbar = False,cmap=plt.cm.Blues,display_labels = None,normalize = \"pred\")\n",
    "plt.xticks(fontsize = 6)\n",
    "plt.yticks(fontsize = 6)\n",
    "plt.rc('axes', titlesize=6)\n",
    "plt.grid(b=None)\n",
    "plt.gcf().set_size_inches(1.66, 1.66)\n",
    "plt.savefig(\"confmat_test.png\", dpi=300)"
   ]
  },
  {
   "cell_type": "markdown",
   "id": "fa2be01c-1618-4153-af1c-a55d998b0435",
   "metadata": {},
   "source": [
    "### Evaluation on external data"
   ]
  },
  {
   "cell_type": "code",
   "execution_count": 14,
   "id": "ea249dbd-36ff-4099-9814-e627ef2b8459",
   "metadata": {},
   "outputs": [
    {
     "data": {
      "text/html": [
       "<div>\n",
       "<style scoped>\n",
       "    .dataframe tbody tr th:only-of-type {\n",
       "        vertical-align: middle;\n",
       "    }\n",
       "\n",
       "    .dataframe tbody tr th {\n",
       "        vertical-align: top;\n",
       "    }\n",
       "\n",
       "    .dataframe thead th {\n",
       "        text-align: right;\n",
       "    }\n",
       "</style>\n",
       "<table border=\"1\" class=\"dataframe\">\n",
       "  <thead>\n",
       "    <tr style=\"text-align: right;\">\n",
       "      <th></th>\n",
       "      <th>AUC</th>\n",
       "      <th>SNR</th>\n",
       "      <th>peak_cor</th>\n",
       "      <th>pop</th>\n",
       "    </tr>\n",
       "  </thead>\n",
       "  <tbody>\n",
       "    <tr>\n",
       "      <th>0</th>\n",
       "      <td>1.550411e+06</td>\n",
       "      <td>9.157991</td>\n",
       "      <td>0.950110</td>\n",
       "      <td>9.155172</td>\n",
       "    </tr>\n",
       "    <tr>\n",
       "      <th>1</th>\n",
       "      <td>7.005290e+07</td>\n",
       "      <td>7.829217</td>\n",
       "      <td>0.791473</td>\n",
       "      <td>12.017241</td>\n",
       "    </tr>\n",
       "    <tr>\n",
       "      <th>2</th>\n",
       "      <td>4.622119e+07</td>\n",
       "      <td>13.129390</td>\n",
       "      <td>0.829467</td>\n",
       "      <td>15.982759</td>\n",
       "    </tr>\n",
       "    <tr>\n",
       "      <th>3</th>\n",
       "      <td>5.642127e+06</td>\n",
       "      <td>12.538186</td>\n",
       "      <td>0.949624</td>\n",
       "      <td>14.310345</td>\n",
       "    </tr>\n",
       "    <tr>\n",
       "      <th>4</th>\n",
       "      <td>5.125975e+07</td>\n",
       "      <td>11.839695</td>\n",
       "      <td>0.932968</td>\n",
       "      <td>14.206897</td>\n",
       "    </tr>\n",
       "  </tbody>\n",
       "</table>\n",
       "</div>"
      ],
      "text/plain": [
       "            AUC        SNR  peak_cor        pop\n",
       "0  1.550411e+06   9.157991  0.950110   9.155172\n",
       "1  7.005290e+07   7.829217  0.791473  12.017241\n",
       "2  4.622119e+07  13.129390  0.829467  15.982759\n",
       "3  5.642127e+06  12.538186  0.949624  14.310345\n",
       "4  5.125975e+07  11.839695  0.932968  14.206897"
      ]
     },
     "execution_count": 14,
     "metadata": {},
     "output_type": "execute_result"
    }
   ],
   "source": [
    "new_data = pd.read_csv(\"C:/Users/pvgeende/OneDrive - UGent/Documents/publications/tardis_paper/data/quality_analysis/metabo_fgfp_labeled.csv\")\n",
    "new_data = new_data[[\"AUC\",\"SNR\",\"peak_cor\",\"pop\",\"Rating\"]]\n",
    "correct_labels = new_data[[\"Rating\"]]\n",
    "new_data.drop('Rating', axis=1, inplace=True)\n",
    "new_data.head()"
   ]
  },
  {
   "cell_type": "code",
   "execution_count": 15,
   "id": "5685f98c-cee1-4faf-8fab-76d6b59cfe6e",
   "metadata": {},
   "outputs": [
    {
     "data": {
      "text/html": [],
      "text/plain": [
       "<IPython.core.display.HTML object>"
      ]
     },
     "metadata": {},
     "output_type": "display_data"
    },
    {
     "data": {
      "text/html": [
       "<div>\n",
       "<style scoped>\n",
       "    .dataframe tbody tr th:only-of-type {\n",
       "        vertical-align: middle;\n",
       "    }\n",
       "\n",
       "    .dataframe tbody tr th {\n",
       "        vertical-align: top;\n",
       "    }\n",
       "\n",
       "    .dataframe thead th {\n",
       "        text-align: right;\n",
       "    }\n",
       "</style>\n",
       "<table border=\"1\" class=\"dataframe\">\n",
       "  <thead>\n",
       "    <tr style=\"text-align: right;\">\n",
       "      <th></th>\n",
       "      <th>AUC</th>\n",
       "      <th>SNR</th>\n",
       "      <th>peak_cor</th>\n",
       "      <th>pop</th>\n",
       "      <th>prediction_label</th>\n",
       "      <th>prediction_score</th>\n",
       "    </tr>\n",
       "  </thead>\n",
       "  <tbody>\n",
       "    <tr>\n",
       "      <th>0</th>\n",
       "      <td>1.550411e+06</td>\n",
       "      <td>9.157991</td>\n",
       "      <td>0.950110</td>\n",
       "      <td>9.155172</td>\n",
       "      <td>Good</td>\n",
       "      <td>0.70</td>\n",
       "    </tr>\n",
       "    <tr>\n",
       "      <th>1</th>\n",
       "      <td>7.005290e+07</td>\n",
       "      <td>7.829217</td>\n",
       "      <td>0.791473</td>\n",
       "      <td>12.017241</td>\n",
       "      <td>Ambiguous</td>\n",
       "      <td>0.51</td>\n",
       "    </tr>\n",
       "    <tr>\n",
       "      <th>2</th>\n",
       "      <td>4.622119e+07</td>\n",
       "      <td>13.129391</td>\n",
       "      <td>0.829467</td>\n",
       "      <td>15.982759</td>\n",
       "      <td>Good</td>\n",
       "      <td>0.94</td>\n",
       "    </tr>\n",
       "    <tr>\n",
       "      <th>3</th>\n",
       "      <td>5.642127e+06</td>\n",
       "      <td>12.538186</td>\n",
       "      <td>0.949624</td>\n",
       "      <td>14.310345</td>\n",
       "      <td>Good</td>\n",
       "      <td>1.00</td>\n",
       "    </tr>\n",
       "    <tr>\n",
       "      <th>4</th>\n",
       "      <td>5.125975e+07</td>\n",
       "      <td>11.839695</td>\n",
       "      <td>0.932968</td>\n",
       "      <td>14.206897</td>\n",
       "      <td>Good</td>\n",
       "      <td>1.00</td>\n",
       "    </tr>\n",
       "  </tbody>\n",
       "</table>\n",
       "</div>"
      ],
      "text/plain": [
       "            AUC        SNR  peak_cor        pop prediction_label  \\\n",
       "0  1.550411e+06   9.157991  0.950110   9.155172             Good   \n",
       "1  7.005290e+07   7.829217  0.791473  12.017241        Ambiguous   \n",
       "2  4.622119e+07  13.129391  0.829467  15.982759             Good   \n",
       "3  5.642127e+06  12.538186  0.949624  14.310345             Good   \n",
       "4  5.125975e+07  11.839695  0.932968  14.206897             Good   \n",
       "\n",
       "   prediction_score  \n",
       "0              0.70  \n",
       "1              0.51  \n",
       "2              0.94  \n",
       "3              1.00  \n",
       "4              1.00  "
      ]
     },
     "execution_count": 15,
     "metadata": {},
     "output_type": "execute_result"
    }
   ],
   "source": [
    "predictions = predict_model(best, data = new_data)\n",
    "predictions.head()"
   ]
  },
  {
   "cell_type": "code",
   "execution_count": 16,
   "id": "d7b53a14-b078-4efc-8a1a-d7f8f1b7560d",
   "metadata": {},
   "outputs": [
    {
     "data": {
      "text/plain": [
       "0.6246575342465753"
      ]
     },
     "execution_count": 16,
     "metadata": {},
     "output_type": "execute_result"
    }
   ],
   "source": [
    "from sklearn.metrics import accuracy_score\n",
    "accuracy_score(correct_labels, predictions[\"prediction_label\"])"
   ]
  },
  {
   "cell_type": "code",
   "execution_count": 141,
   "id": "4b353f31-7557-4f8f-98ad-5a90a102b34e",
   "metadata": {},
   "outputs": [
    {
     "data": {
      "text/plain": [
       "Rating   \n",
       "Good         130\n",
       "Bad          125\n",
       "Ambiguous    110\n",
       "dtype: int64"
      ]
     },
     "execution_count": 141,
     "metadata": {},
     "output_type": "execute_result"
    }
   ],
   "source": [
    "correct_labels.value_counts()\n"
   ]
  },
  {
   "cell_type": "code",
   "execution_count": 17,
   "id": "91e84ab3-9cac-4edf-bdfd-f31fc2e8951a",
   "metadata": {},
   "outputs": [],
   "source": [
    "from sklearn.metrics import confusion_matrix\n",
    "confusion_matrix = confusion_matrix(correct_labels, predictions[\"prediction_label\"])\n"
   ]
  },
  {
   "cell_type": "code",
   "execution_count": 20,
   "id": "fa0fac2c-4e6f-4139-b521-8e109ed7b876",
   "metadata": {},
   "outputs": [
    {
     "data": {
      "image/png": "[encoded data removed]",
      "text/plain": [
       "<Figure size 166x166 with 1 Axes>"
      ]
     },
     "metadata": {},
     "output_type": "display_data"
    }
   ],
   "source": [
    "from sklearn.metrics import ConfusionMatrixDisplay\n",
    "import matplotlib.pyplot as plt\n",
    "font = {'family' : 'arial',\n",
    "    'weight' : 'bold',\n",
    "    'size'   : 6}\n",
    "plt.rc('font', **font)\n",
    "disp = ConfusionMatrixDisplay.from_predictions(correct_labels, predictions[\"prediction_label\"],colorbar = False,cmap=plt.cm.Blues,normalize = \"pred\")\n",
    "plt.xticks(fontsize = 6)\n",
    "plt.yticks(fontsize = 6)\n",
    "plt.rc('axes', titlesize=6)\n",
    "plt.grid(b=None)\n",
    "plt.gcf().set_size_inches(1.66, 1.66)\n",
    "plt.savefig(\"confmat_test.png\", dpi=300)"
   ]
  },
  {
   "cell_type": "code",
   "execution_count": null,
   "id": "43cbabec-609e-4d6f-8245-d0377c38b3ff",
   "metadata": {},
   "outputs": [],
   "source": []
  }
 ],
 "metadata": {
  "kernelspec": {
   "display_name": "Python 3 (ipykernel)",
   "language": "python",
   "name": "python3"
  },
  "language_info": {
   "codemirror_mode": {
    "name": "ipython",
    "version": 3
   },
   "file_extension": ".py",
   "mimetype": "text/x-python",
   "name": "python",
   "nbconvert_exporter": "python",
   "pygments_lexer": "ipython3",
   "version": "3.11.5"
  }
 },
 "nbformat": 4,
 "nbformat_minor": 5
}
